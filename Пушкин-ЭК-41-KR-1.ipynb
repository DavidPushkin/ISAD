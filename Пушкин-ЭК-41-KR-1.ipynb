{
 "cells": [
  {
   "cell_type": "code",
   "execution_count": 165,
   "id": "61105c79",
   "metadata": {},
   "outputs": [],
   "source": [
    "#!pip install numpy\n",
    "#!pip install matplotlib\n",
    "#!pip install pandas"
   ]
  },
  {
   "cell_type": "code",
   "execution_count": 166,
   "id": "d080782d",
   "metadata": {},
   "outputs": [],
   "source": [
    "#Importing the libraries\n",
    "import numpy as np\n",
    "import matplotlib.pyplot as plt\n",
    "import pandas as pd"
   ]
  },
  {
   "cell_type": "code",
   "execution_count": 167,
   "id": "ae0c8c70",
   "metadata": {},
   "outputs": [],
   "source": [
    "#!pip install sklearn"
   ]
  },
  {
   "cell_type": "code",
   "execution_count": 168,
   "id": "51d25a22",
   "metadata": {},
   "outputs": [],
   "source": [
    "#!pip install openpyxl"
   ]
  },
  {
   "cell_type": "code",
   "execution_count": 169,
   "id": "d9b0da19",
   "metadata": {},
   "outputs": [],
   "source": [
    "#Importing the dataset\n",
    "df = pd.read_excel('КР-1.xlsx', sheet_name='Вар (15)')"
   ]
  },
  {
   "cell_type": "code",
   "execution_count": 170,
   "id": "780f9c2b",
   "metadata": {},
   "outputs": [
    {
     "data": {
      "text/html": [
       "<div>\n",
       "<style scoped>\n",
       "    .dataframe tbody tr th:only-of-type {\n",
       "        vertical-align: middle;\n",
       "    }\n",
       "\n",
       "    .dataframe tbody tr th {\n",
       "        vertical-align: top;\n",
       "    }\n",
       "\n",
       "    .dataframe thead th {\n",
       "        text-align: right;\n",
       "    }\n",
       "</style>\n",
       "<table border=\"1\" class=\"dataframe\">\n",
       "  <thead>\n",
       "    <tr style=\"text-align: right;\">\n",
       "      <th></th>\n",
       "      <th>Торговельна площа, кв. м.</th>\n",
       "      <th>Этаж</th>\n",
       "      <th>Количество касс</th>\n",
       "      <th>Тип</th>\n",
       "      <th>Кількість відгуків в гуглі</th>\n",
       "      <th>Количество чеков в месяц</th>\n",
       "      <th>Среднее количество единиц в чеке</th>\n",
       "      <th>Людинопотік</th>\n",
       "      <th>Середній дохід населення</th>\n",
       "      <th>Піцерія</th>\n",
       "      <th>Магістральна вулиця</th>\n",
       "      <th>Стихійна торгівля</th>\n",
       "      <th>Церква</th>\n",
       "      <th>Новозбудований ЖК</th>\n",
       "    </tr>\n",
       "  </thead>\n",
       "  <tbody>\n",
       "    <tr>\n",
       "      <th>0</th>\n",
       "      <td>9.00</td>\n",
       "      <td>1</td>\n",
       "      <td>1</td>\n",
       "      <td>Light</td>\n",
       "      <td>NaN</td>\n",
       "      <td>1230.0</td>\n",
       "      <td>1.56</td>\n",
       "      <td>5211.0</td>\n",
       "      <td>14910.0</td>\n",
       "      <td>0</td>\n",
       "      <td>0</td>\n",
       "      <td>0</td>\n",
       "      <td>0</td>\n",
       "      <td>0</td>\n",
       "    </tr>\n",
       "    <tr>\n",
       "      <th>1</th>\n",
       "      <td>22.00</td>\n",
       "      <td>1</td>\n",
       "      <td>1</td>\n",
       "      <td>Light</td>\n",
       "      <td>8.0</td>\n",
       "      <td>2715.0</td>\n",
       "      <td>2.03</td>\n",
       "      <td>2424.0</td>\n",
       "      <td>9030.0</td>\n",
       "      <td>0</td>\n",
       "      <td>0</td>\n",
       "      <td>0</td>\n",
       "      <td>0</td>\n",
       "      <td>0</td>\n",
       "    </tr>\n",
       "    <tr>\n",
       "      <th>2</th>\n",
       "      <td>13.00</td>\n",
       "      <td>1</td>\n",
       "      <td>1</td>\n",
       "      <td>light</td>\n",
       "      <td>NaN</td>\n",
       "      <td>878.0</td>\n",
       "      <td>1.81</td>\n",
       "      <td>3868.0</td>\n",
       "      <td>9030.0</td>\n",
       "      <td>1</td>\n",
       "      <td>0</td>\n",
       "      <td>0</td>\n",
       "      <td>0</td>\n",
       "      <td>0</td>\n",
       "    </tr>\n",
       "    <tr>\n",
       "      <th>3</th>\n",
       "      <td>18.00</td>\n",
       "      <td>1</td>\n",
       "      <td>1</td>\n",
       "      <td>light</td>\n",
       "      <td>NaN</td>\n",
       "      <td>2346.0</td>\n",
       "      <td>2.18</td>\n",
       "      <td>4546.0</td>\n",
       "      <td>13930.0</td>\n",
       "      <td>0</td>\n",
       "      <td>0</td>\n",
       "      <td>1</td>\n",
       "      <td>0</td>\n",
       "      <td>0</td>\n",
       "    </tr>\n",
       "    <tr>\n",
       "      <th>4</th>\n",
       "      <td>25.00</td>\n",
       "      <td>1</td>\n",
       "      <td>1</td>\n",
       "      <td>light</td>\n",
       "      <td>NaN</td>\n",
       "      <td>2542.0</td>\n",
       "      <td>1.63</td>\n",
       "      <td>3244.0</td>\n",
       "      <td>14560.0</td>\n",
       "      <td>0</td>\n",
       "      <td>0</td>\n",
       "      <td>0</td>\n",
       "      <td>0</td>\n",
       "      <td>0</td>\n",
       "    </tr>\n",
       "    <tr>\n",
       "      <th>...</th>\n",
       "      <td>...</td>\n",
       "      <td>...</td>\n",
       "      <td>...</td>\n",
       "      <td>...</td>\n",
       "      <td>...</td>\n",
       "      <td>...</td>\n",
       "      <td>...</td>\n",
       "      <td>...</td>\n",
       "      <td>...</td>\n",
       "      <td>...</td>\n",
       "      <td>...</td>\n",
       "      <td>...</td>\n",
       "      <td>...</td>\n",
       "      <td>...</td>\n",
       "    </tr>\n",
       "    <tr>\n",
       "      <th>64</th>\n",
       "      <td>40.78</td>\n",
       "      <td>1</td>\n",
       "      <td>2</td>\n",
       "      <td>Standart</td>\n",
       "      <td>4.0</td>\n",
       "      <td>13552.0</td>\n",
       "      <td>1.89</td>\n",
       "      <td>2306.0</td>\n",
       "      <td>9800.0</td>\n",
       "      <td>0</td>\n",
       "      <td>0</td>\n",
       "      <td>0</td>\n",
       "      <td>0</td>\n",
       "      <td>0</td>\n",
       "    </tr>\n",
       "    <tr>\n",
       "      <th>65</th>\n",
       "      <td>21.50</td>\n",
       "      <td>1</td>\n",
       "      <td>1</td>\n",
       "      <td>Light</td>\n",
       "      <td>3.0</td>\n",
       "      <td>7598.0</td>\n",
       "      <td>1.85</td>\n",
       "      <td>4065.0</td>\n",
       "      <td>12600.0</td>\n",
       "      <td>0</td>\n",
       "      <td>0</td>\n",
       "      <td>0</td>\n",
       "      <td>0</td>\n",
       "      <td>0</td>\n",
       "    </tr>\n",
       "    <tr>\n",
       "      <th>66</th>\n",
       "      <td>115.23</td>\n",
       "      <td>1</td>\n",
       "      <td>1</td>\n",
       "      <td>Light</td>\n",
       "      <td>12.0</td>\n",
       "      <td>5431.0</td>\n",
       "      <td>1.99</td>\n",
       "      <td>906.0</td>\n",
       "      <td>10570.0</td>\n",
       "      <td>0</td>\n",
       "      <td>0</td>\n",
       "      <td>0</td>\n",
       "      <td>0</td>\n",
       "      <td>0</td>\n",
       "    </tr>\n",
       "    <tr>\n",
       "      <th>67</th>\n",
       "      <td>34.80</td>\n",
       "      <td>1</td>\n",
       "      <td>2</td>\n",
       "      <td>Standart</td>\n",
       "      <td>17.0</td>\n",
       "      <td>4375.0</td>\n",
       "      <td>1.73</td>\n",
       "      <td>1742.0</td>\n",
       "      <td>12460.0</td>\n",
       "      <td>0</td>\n",
       "      <td>0</td>\n",
       "      <td>0</td>\n",
       "      <td>0</td>\n",
       "      <td>0</td>\n",
       "    </tr>\n",
       "    <tr>\n",
       "      <th>68</th>\n",
       "      <td>22.00</td>\n",
       "      <td>1</td>\n",
       "      <td>1</td>\n",
       "      <td>light</td>\n",
       "      <td>12.0</td>\n",
       "      <td>7355.0</td>\n",
       "      <td>2.13</td>\n",
       "      <td>1132.0</td>\n",
       "      <td>10430.0</td>\n",
       "      <td>0</td>\n",
       "      <td>0</td>\n",
       "      <td>0</td>\n",
       "      <td>1</td>\n",
       "      <td>0</td>\n",
       "    </tr>\n",
       "  </tbody>\n",
       "</table>\n",
       "<p>69 rows × 14 columns</p>\n",
       "</div>"
      ],
      "text/plain": [
       "    Торговельна площа, кв. м.  Этаж  Количество касс       Тип  \\\n",
       "0                        9.00     1                1     Light   \n",
       "1                       22.00     1                1     Light   \n",
       "2                       13.00     1                1     light   \n",
       "3                       18.00     1                1     light   \n",
       "4                       25.00     1                1     light   \n",
       "..                        ...   ...              ...       ...   \n",
       "64                      40.78     1                2  Standart   \n",
       "65                      21.50     1                1     Light   \n",
       "66                     115.23     1                1     Light   \n",
       "67                      34.80     1                2  Standart   \n",
       "68                      22.00     1                1     light   \n",
       "\n",
       "    Кількість відгуків в гуглі  Количество чеков в месяц  \\\n",
       "0                          NaN                    1230.0   \n",
       "1                          8.0                    2715.0   \n",
       "2                          NaN                     878.0   \n",
       "3                          NaN                    2346.0   \n",
       "4                          NaN                    2542.0   \n",
       "..                         ...                       ...   \n",
       "64                         4.0                   13552.0   \n",
       "65                         3.0                    7598.0   \n",
       "66                        12.0                    5431.0   \n",
       "67                        17.0                    4375.0   \n",
       "68                        12.0                    7355.0   \n",
       "\n",
       "    Среднее количество единиц в чеке  Людинопотік  Середній дохід населення  \\\n",
       "0                               1.56       5211.0                   14910.0   \n",
       "1                               2.03       2424.0                    9030.0   \n",
       "2                               1.81       3868.0                    9030.0   \n",
       "3                               2.18       4546.0                   13930.0   \n",
       "4                               1.63       3244.0                   14560.0   \n",
       "..                               ...          ...                       ...   \n",
       "64                              1.89       2306.0                    9800.0   \n",
       "65                              1.85       4065.0                   12600.0   \n",
       "66                              1.99        906.0                   10570.0   \n",
       "67                              1.73       1742.0                   12460.0   \n",
       "68                              2.13       1132.0                   10430.0   \n",
       "\n",
       "    Піцерія  Магістральна вулиця  Стихійна торгівля  Церква  Новозбудований ЖК  \n",
       "0         0                    0                  0       0                  0  \n",
       "1         0                    0                  0       0                  0  \n",
       "2         1                    0                  0       0                  0  \n",
       "3         0                    0                  1       0                  0  \n",
       "4         0                    0                  0       0                  0  \n",
       "..      ...                  ...                ...     ...                ...  \n",
       "64        0                    0                  0       0                  0  \n",
       "65        0                    0                  0       0                  0  \n",
       "66        0                    0                  0       0                  0  \n",
       "67        0                    0                  0       0                  0  \n",
       "68        0                    0                  0       1                  0  \n",
       "\n",
       "[69 rows x 14 columns]"
      ]
     },
     "execution_count": 170,
     "metadata": {},
     "output_type": "execute_result"
    }
   ],
   "source": [
    "df"
   ]
  },
  {
   "cell_type": "code",
   "execution_count": 171,
   "id": "0269f493",
   "metadata": {},
   "outputs": [],
   "source": [
    "# Drop useless\n",
    "df = df.drop(['Этаж'], axis='columns', inplace=False)"
   ]
  },
  {
   "cell_type": "code",
   "execution_count": 172,
   "id": "51189065",
   "metadata": {},
   "outputs": [
    {
     "name": "stdout",
     "output_type": "stream",
     "text": [
      "<class 'pandas.core.frame.DataFrame'>\n",
      "RangeIndex: 69 entries, 0 to 68\n",
      "Data columns (total 13 columns):\n",
      " #   Column                            Non-Null Count  Dtype  \n",
      "---  ------                            --------------  -----  \n",
      " 0   Торговельна площа, кв. м.         69 non-null     float64\n",
      " 1   Количество касс                   69 non-null     int64  \n",
      " 2   Тип                               69 non-null     object \n",
      " 3   Кількість відгуків в гуглі        39 non-null     float64\n",
      " 4   Количество чеков в месяц          69 non-null     float64\n",
      " 5   Среднее количество единиц в чеке  62 non-null     float64\n",
      " 6   Людинопотік                       64 non-null     float64\n",
      " 7   Середній дохід населення          64 non-null     float64\n",
      " 8   Піцерія                           69 non-null     int64  \n",
      " 9   Магістральна вулиця               69 non-null     int64  \n",
      " 10  Стихійна торгівля                 69 non-null     int64  \n",
      " 11  Церква                            69 non-null     int64  \n",
      " 12  Новозбудований ЖК                 69 non-null     int64  \n",
      "dtypes: float64(6), int64(6), object(1)\n",
      "memory usage: 7.1+ KB\n"
     ]
    }
   ],
   "source": [
    "df.info()"
   ]
  },
  {
   "cell_type": "code",
   "execution_count": 173,
   "id": "f191b659",
   "metadata": {},
   "outputs": [
    {
     "data": {
      "text/plain": [
       "<AxesSubplot:ylabel='Frequency'>"
      ]
     },
     "execution_count": 173,
     "metadata": {},
     "output_type": "execute_result"
    },
    {
     "data": {
      "image/png": "[encoded data removed]",
      "text/plain": [
       "<Figure size 432x288 with 1 Axes>"
      ]
     },
     "metadata": {
      "needs_background": "light"
     },
     "output_type": "display_data"
    }
   ],
   "source": [
    "#Visualization\n",
    "# Feature distribution\n",
    "df['Середній дохід населення'].plot(kind = 'hist')"
   ]
  },
  {
   "cell_type": "code",
   "execution_count": 174,
   "id": "d4bda21e",
   "metadata": {},
   "outputs": [
    {
     "data": {
      "text/plain": [
       "<AxesSubplot:ylabel='Frequency'>"
      ]
     },
     "execution_count": 174,
     "metadata": {},
     "output_type": "execute_result"
    },
    {
     "data": {
      "image/png": "[encoded data removed]",
      "text/plain": [
       "<Figure size 432x288 with 1 Axes>"
      ]
     },
     "metadata": {
      "needs_background": "light"
     },
     "output_type": "display_data"
    }
   ],
   "source": [
    "df['Количество чеков в месяц'].plot(kind = 'hist')"
   ]
  },
  {
   "cell_type": "code",
   "execution_count": 175,
   "id": "c86d8112",
   "metadata": {},
   "outputs": [
    {
     "data": {
      "text/plain": [
       "<AxesSubplot:ylabel='Frequency'>"
      ]
     },
     "execution_count": 175,
     "metadata": {},
     "output_type": "execute_result"
    },
    {
     "data": {
      "image/png": "[encoded data removed]",
      "text/plain": [
       "<Figure size 432x288 with 1 Axes>"
      ]
     },
     "metadata": {
      "needs_background": "light"
     },
     "output_type": "display_data"
    }
   ],
   "source": [
    "df['Людинопотік'].plot(kind = 'hist')"
   ]
  },
  {
   "cell_type": "code",
   "execution_count": 176,
   "id": "eb300854",
   "metadata": {},
   "outputs": [
    {
     "data": {
      "text/plain": [
       "<AxesSubplot:ylabel='Frequency'>"
      ]
     },
     "execution_count": 176,
     "metadata": {},
     "output_type": "execute_result"
    },
    {
     "data": {
      "image/png": "[encoded data removed]",
      "text/plain": [
       "<Figure size 432x288 with 1 Axes>"
      ]
     },
     "metadata": {
      "needs_background": "light"
     },
     "output_type": "display_data"
    }
   ],
   "source": [
    "df['Кількість відгуків в гуглі'].plot(kind = 'hist')"
   ]
  },
  {
   "cell_type": "code",
   "execution_count": 177,
   "id": "17412aa5",
   "metadata": {},
   "outputs": [
    {
     "data": {
      "text/html": [
       "<div>\n",
       "<style scoped>\n",
       "    .dataframe tbody tr th:only-of-type {\n",
       "        vertical-align: middle;\n",
       "    }\n",
       "\n",
       "    .dataframe tbody tr th {\n",
       "        vertical-align: top;\n",
       "    }\n",
       "\n",
       "    .dataframe thead th {\n",
       "        text-align: right;\n",
       "    }\n",
       "</style>\n",
       "<table border=\"1\" class=\"dataframe\">\n",
       "  <thead>\n",
       "    <tr style=\"text-align: right;\">\n",
       "      <th></th>\n",
       "      <th>Торговельна площа, кв. м.</th>\n",
       "      <th>Количество касс</th>\n",
       "      <th>Кількість відгуків в гуглі</th>\n",
       "      <th>Количество чеков в месяц</th>\n",
       "      <th>Среднее количество единиц в чеке</th>\n",
       "      <th>Людинопотік</th>\n",
       "      <th>Середній дохід населення</th>\n",
       "      <th>Піцерія</th>\n",
       "      <th>Магістральна вулиця</th>\n",
       "      <th>Стихійна торгівля</th>\n",
       "      <th>Церква</th>\n",
       "      <th>Новозбудований ЖК</th>\n",
       "    </tr>\n",
       "  </thead>\n",
       "  <tbody>\n",
       "    <tr>\n",
       "      <th>count</th>\n",
       "      <td>69.000000</td>\n",
       "      <td>69.000000</td>\n",
       "      <td>39.000000</td>\n",
       "      <td>69.000000</td>\n",
       "      <td>62.000000</td>\n",
       "      <td>64.000000</td>\n",
       "      <td>64.000000</td>\n",
       "      <td>69.000000</td>\n",
       "      <td>69.000000</td>\n",
       "      <td>69.000000</td>\n",
       "      <td>69.000000</td>\n",
       "      <td>69.000000</td>\n",
       "    </tr>\n",
       "    <tr>\n",
       "      <th>mean</th>\n",
       "      <td>34.872145</td>\n",
       "      <td>1.231884</td>\n",
       "      <td>42.820513</td>\n",
       "      <td>7105.030583</td>\n",
       "      <td>1.896290</td>\n",
       "      <td>2755.765625</td>\n",
       "      <td>11418.593750</td>\n",
       "      <td>0.043478</td>\n",
       "      <td>0.144928</td>\n",
       "      <td>0.086957</td>\n",
       "      <td>0.057971</td>\n",
       "      <td>0.043478</td>\n",
       "    </tr>\n",
       "    <tr>\n",
       "      <th>std</th>\n",
       "      <td>21.704293</td>\n",
       "      <td>0.458416</td>\n",
       "      <td>81.975565</td>\n",
       "      <td>4052.584218</td>\n",
       "      <td>0.218364</td>\n",
       "      <td>2058.993750</td>\n",
       "      <td>2528.015011</td>\n",
       "      <td>0.205425</td>\n",
       "      <td>0.354607</td>\n",
       "      <td>0.283836</td>\n",
       "      <td>0.235401</td>\n",
       "      <td>0.205425</td>\n",
       "    </tr>\n",
       "    <tr>\n",
       "      <th>min</th>\n",
       "      <td>4.000000</td>\n",
       "      <td>1.000000</td>\n",
       "      <td>1.000000</td>\n",
       "      <td>878.000000</td>\n",
       "      <td>1.270000</td>\n",
       "      <td>233.000000</td>\n",
       "      <td>0.000000</td>\n",
       "      <td>0.000000</td>\n",
       "      <td>0.000000</td>\n",
       "      <td>0.000000</td>\n",
       "      <td>0.000000</td>\n",
       "      <td>0.000000</td>\n",
       "    </tr>\n",
       "    <tr>\n",
       "      <th>25%</th>\n",
       "      <td>22.000000</td>\n",
       "      <td>1.000000</td>\n",
       "      <td>5.000000</td>\n",
       "      <td>3734.000000</td>\n",
       "      <td>1.770000</td>\n",
       "      <td>1148.500000</td>\n",
       "      <td>10412.500000</td>\n",
       "      <td>0.000000</td>\n",
       "      <td>0.000000</td>\n",
       "      <td>0.000000</td>\n",
       "      <td>0.000000</td>\n",
       "      <td>0.000000</td>\n",
       "    </tr>\n",
       "    <tr>\n",
       "      <th>50%</th>\n",
       "      <td>27.500000</td>\n",
       "      <td>1.000000</td>\n",
       "      <td>12.000000</td>\n",
       "      <td>6694.000000</td>\n",
       "      <td>1.890000</td>\n",
       "      <td>2208.000000</td>\n",
       "      <td>11515.000000</td>\n",
       "      <td>0.000000</td>\n",
       "      <td>0.000000</td>\n",
       "      <td>0.000000</td>\n",
       "      <td>0.000000</td>\n",
       "      <td>0.000000</td>\n",
       "    </tr>\n",
       "    <tr>\n",
       "      <th>75%</th>\n",
       "      <td>41.000000</td>\n",
       "      <td>1.000000</td>\n",
       "      <td>33.000000</td>\n",
       "      <td>8548.000000</td>\n",
       "      <td>2.017500</td>\n",
       "      <td>3998.750000</td>\n",
       "      <td>12915.000000</td>\n",
       "      <td>0.000000</td>\n",
       "      <td>0.000000</td>\n",
       "      <td>0.000000</td>\n",
       "      <td>0.000000</td>\n",
       "      <td>0.000000</td>\n",
       "    </tr>\n",
       "    <tr>\n",
       "      <th>max</th>\n",
       "      <td>119.300000</td>\n",
       "      <td>3.000000</td>\n",
       "      <td>367.000000</td>\n",
       "      <td>17537.000000</td>\n",
       "      <td>2.540000</td>\n",
       "      <td>10016.000000</td>\n",
       "      <td>15470.000000</td>\n",
       "      <td>1.000000</td>\n",
       "      <td>1.000000</td>\n",
       "      <td>1.000000</td>\n",
       "      <td>1.000000</td>\n",
       "      <td>1.000000</td>\n",
       "    </tr>\n",
       "  </tbody>\n",
       "</table>\n",
       "</div>"
      ],
      "text/plain": [
       "       Торговельна площа, кв. м.  Количество касс  Кількість відгуків в гуглі  \\\n",
       "count                  69.000000        69.000000                   39.000000   \n",
       "mean                   34.872145         1.231884                   42.820513   \n",
       "std                    21.704293         0.458416                   81.975565   \n",
       "min                     4.000000         1.000000                    1.000000   \n",
       "25%                    22.000000         1.000000                    5.000000   \n",
       "50%                    27.500000         1.000000                   12.000000   \n",
       "75%                    41.000000         1.000000                   33.000000   \n",
       "max                   119.300000         3.000000                  367.000000   \n",
       "\n",
       "       Количество чеков в месяц  Среднее количество единиц в чеке  \\\n",
       "count                 69.000000                         62.000000   \n",
       "mean                7105.030583                          1.896290   \n",
       "std                 4052.584218                          0.218364   \n",
       "min                  878.000000                          1.270000   \n",
       "25%                 3734.000000                          1.770000   \n",
       "50%                 6694.000000                          1.890000   \n",
       "75%                 8548.000000                          2.017500   \n",
       "max                17537.000000                          2.540000   \n",
       "\n",
       "        Людинопотік  Середній дохід населення    Піцерія  Магістральна вулиця  \\\n",
       "count     64.000000                 64.000000  69.000000            69.000000   \n",
       "mean    2755.765625              11418.593750   0.043478             0.144928   \n",
       "std     2058.993750               2528.015011   0.205425             0.354607   \n",
       "min      233.000000                  0.000000   0.000000             0.000000   \n",
       "25%     1148.500000              10412.500000   0.000000             0.000000   \n",
       "50%     2208.000000              11515.000000   0.000000             0.000000   \n",
       "75%     3998.750000              12915.000000   0.000000             0.000000   \n",
       "max    10016.000000              15470.000000   1.000000             1.000000   \n",
       "\n",
       "       Стихійна торгівля     Церква  Новозбудований ЖК  \n",
       "count          69.000000  69.000000          69.000000  \n",
       "mean            0.086957   0.057971           0.043478  \n",
       "std             0.283836   0.235401           0.205425  \n",
       "min             0.000000   0.000000           0.000000  \n",
       "25%             0.000000   0.000000           0.000000  \n",
       "50%             0.000000   0.000000           0.000000  \n",
       "75%             0.000000   0.000000           0.000000  \n",
       "max             1.000000   1.000000           1.000000  "
      ]
     },
     "execution_count": 177,
     "metadata": {},
     "output_type": "execute_result"
    }
   ],
   "source": [
    "#Statistics\n",
    "df.describe()"
   ]
  },
  {
   "cell_type": "code",
   "execution_count": 178,
   "id": "8f9b1d29",
   "metadata": {},
   "outputs": [
    {
     "data": {
      "text/plain": [
       "Index(['Торговельна площа, кв. м.', 'Количество касс', 'Тип',\n",
       "       'Кількість відгуків в гуглі', 'Количество чеков в месяц',\n",
       "       'Среднее количество единиц в чеке', 'Людинопотік',\n",
       "       'Середній дохід населення', 'Піцерія', 'Магістральна вулиця',\n",
       "       'Стихійна торгівля', 'Церква', 'Новозбудований ЖК'],\n",
       "      dtype='object')"
      ]
     },
     "execution_count": 178,
     "metadata": {},
     "output_type": "execute_result"
    }
   ],
   "source": [
    "df.columns"
   ]
  },
  {
   "cell_type": "code",
   "execution_count": 179,
   "id": "4424c666",
   "metadata": {},
   "outputs": [],
   "source": [
    "#renaming columns\n",
    "df.columns = ['торговельна_площа', 'количество_касс', 'тип',\n",
    "       'кіл_сть_відгуків', 'количество_чеков', 'средний_кол_во', 'людинопотік',\n",
    "       'середній_дохід', 'піцерія', 'магістральна_вулиця','стихійна_торгівля',\n",
    "       'церква', 'новозбудований_ЖК']"
   ]
  },
  {
   "cell_type": "code",
   "execution_count": 180,
   "id": "640dc428",
   "metadata": {},
   "outputs": [
    {
     "data": {
      "text/plain": [
       "торговельна_площа       0\n",
       "количество_касс         0\n",
       "тип                     0\n",
       "кіл_сть_відгуків       30\n",
       "количество_чеков        0\n",
       "средний_кол_во          7\n",
       "людинопотік             5\n",
       "середній_дохід          5\n",
       "піцерія                 0\n",
       "магістральна_вулиця     0\n",
       "стихійна_торгівля       0\n",
       "церква                  0\n",
       "новозбудований_ЖК       0\n",
       "dtype: int64"
      ]
     },
     "execution_count": 180,
     "metadata": {},
     "output_type": "execute_result"
    }
   ],
   "source": [
    "# check missing\n",
    "df.isnull().sum()"
   ]
  },
  {
   "cell_type": "code",
   "execution_count": 181,
   "id": "a7cf5ed9",
   "metadata": {},
   "outputs": [
    {
     "data": {
      "text/plain": [
       "торговельна_площа      float64\n",
       "количество_касс          int64\n",
       "тип                     object\n",
       "кіл_сть_відгуків       float64\n",
       "количество_чеков       float64\n",
       "средний_кол_во         float64\n",
       "людинопотік            float64\n",
       "середній_дохід         float64\n",
       "піцерія                  int64\n",
       "магістральна_вулиця      int64\n",
       "стихійна_торгівля        int64\n",
       "церква                   int64\n",
       "новозбудований_ЖК        int64\n",
       "dtype: object"
      ]
     },
     "execution_count": 181,
     "metadata": {},
     "output_type": "execute_result"
    }
   ],
   "source": [
    "df.dtypes"
   ]
  },
  {
   "cell_type": "code",
   "execution_count": 182,
   "id": "1d7953c7",
   "metadata": {},
   "outputs": [],
   "source": [
    "#missing data is numeric, so let's recover it accordingly\n",
    "#!pip install sklearn\n",
    "\n",
    "from sklearn.impute import SimpleImputer\n",
    "imputer_mean = SimpleImputer(missing_values=np.nan, strategy='mean')\n",
    "df[['кіл_сть_відгуків']] = imputer_mean.fit_transform(df[['кіл_сть_відгуків']]).round()\n",
    "df[['средний_кол_во']] = imputer_mean.fit_transform(df[['средний_кол_во']]).round()\n",
    "df[['середній_дохід']] = imputer_mean.fit_transform(df[['середній_дохід']]).round()\n",
    "df[['людинопотік']] = imputer_mean.fit_transform(df[['людинопотік']]).round()"
   ]
  },
  {
   "cell_type": "code",
   "execution_count": 183,
   "id": "b2385fcc",
   "metadata": {},
   "outputs": [
    {
     "data": {
      "text/plain": [
       "торговельна_площа      0\n",
       "количество_касс        0\n",
       "тип                    0\n",
       "кіл_сть_відгуків       0\n",
       "количество_чеков       0\n",
       "средний_кол_во         0\n",
       "людинопотік            0\n",
       "середній_дохід         0\n",
       "піцерія                0\n",
       "магістральна_вулиця    0\n",
       "стихійна_торгівля      0\n",
       "церква                 0\n",
       "новозбудований_ЖК      0\n",
       "dtype: int64"
      ]
     },
     "execution_count": 183,
     "metadata": {},
     "output_type": "execute_result"
    }
   ],
   "source": [
    "df.isnull().sum()"
   ]
  },
  {
   "cell_type": "code",
   "execution_count": 184,
   "id": "8b6eac80",
   "metadata": {},
   "outputs": [
    {
     "data": {
      "text/html": [
       "<div>\n",
       "<style scoped>\n",
       "    .dataframe tbody tr th:only-of-type {\n",
       "        vertical-align: middle;\n",
       "    }\n",
       "\n",
       "    .dataframe tbody tr th {\n",
       "        vertical-align: top;\n",
       "    }\n",
       "\n",
       "    .dataframe thead th {\n",
       "        text-align: right;\n",
       "    }\n",
       "</style>\n",
       "<table border=\"1\" class=\"dataframe\">\n",
       "  <thead>\n",
       "    <tr style=\"text-align: right;\">\n",
       "      <th></th>\n",
       "      <th>col</th>\n",
       "      <th>nunique</th>\n",
       "      <th>unique</th>\n",
       "      <th>type</th>\n",
       "    </tr>\n",
       "  </thead>\n",
       "  <tbody>\n",
       "    <tr>\n",
       "      <th>0</th>\n",
       "      <td>тип</td>\n",
       "      <td>5</td>\n",
       "      <td>[Light, light, Standart, Micro, Premium]</td>\n",
       "      <td>object</td>\n",
       "    </tr>\n",
       "  </tbody>\n",
       "</table>\n",
       "</div>"
      ],
      "text/plain": [
       "   col  nunique                                    unique    type\n",
       "0  тип        5  [Light, light, Standart, Micro, Premium]  object"
      ]
     },
     "execution_count": 184,
     "metadata": {},
     "output_type": "execute_result"
    }
   ],
   "source": [
    "#encoding\n",
    "dfs = df[['тип']]\n",
    "info = []\n",
    "for column in dfs.columns:\n",
    "        vals = {\"col\": column,\n",
    "                \"nunique\": dfs[column].nunique(),\n",
    "                \"unique\": dfs[column].unique(),\n",
    "                \"type\": dfs[column].dtype\n",
    "               }\n",
    "        info.append(vals)\n",
    "pd.DataFrame(info).sort_values(by = \"col\", ascending = False)"
   ]
  },
  {
   "cell_type": "code",
   "execution_count": 185,
   "id": "0ee48efb",
   "metadata": {},
   "outputs": [],
   "source": [
    "type = {'Light':0,'light':0,'Standart':1,'Micro':2,'Premium':3}\n",
    "df['тип'] = df['тип'].map(type)"
   ]
  },
  {
   "cell_type": "code",
   "execution_count": 186,
   "id": "bf952fb9",
   "metadata": {},
   "outputs": [
    {
     "data": {
      "text/html": [
       "<div>\n",
       "<style scoped>\n",
       "    .dataframe tbody tr th:only-of-type {\n",
       "        vertical-align: middle;\n",
       "    }\n",
       "\n",
       "    .dataframe tbody tr th {\n",
       "        vertical-align: top;\n",
       "    }\n",
       "\n",
       "    .dataframe thead th {\n",
       "        text-align: right;\n",
       "    }\n",
       "</style>\n",
       "<table border=\"1\" class=\"dataframe\">\n",
       "  <thead>\n",
       "    <tr style=\"text-align: right;\">\n",
       "      <th></th>\n",
       "      <th>торговельна_площа</th>\n",
       "      <th>количество_касс</th>\n",
       "      <th>тип</th>\n",
       "      <th>кіл_сть_відгуків</th>\n",
       "      <th>количество_чеков</th>\n",
       "      <th>средний_кол_во</th>\n",
       "      <th>людинопотік</th>\n",
       "      <th>середній_дохід</th>\n",
       "      <th>піцерія</th>\n",
       "      <th>магістральна_вулиця</th>\n",
       "      <th>стихійна_торгівля</th>\n",
       "      <th>церква</th>\n",
       "      <th>новозбудований_ЖК</th>\n",
       "    </tr>\n",
       "  </thead>\n",
       "  <tbody>\n",
       "    <tr>\n",
       "      <th>0</th>\n",
       "      <td>9.00</td>\n",
       "      <td>1</td>\n",
       "      <td>0</td>\n",
       "      <td>43.0</td>\n",
       "      <td>1230.0</td>\n",
       "      <td>2.0</td>\n",
       "      <td>5211.0</td>\n",
       "      <td>14910.0</td>\n",
       "      <td>0</td>\n",
       "      <td>0</td>\n",
       "      <td>0</td>\n",
       "      <td>0</td>\n",
       "      <td>0</td>\n",
       "    </tr>\n",
       "    <tr>\n",
       "      <th>1</th>\n",
       "      <td>22.00</td>\n",
       "      <td>1</td>\n",
       "      <td>0</td>\n",
       "      <td>8.0</td>\n",
       "      <td>2715.0</td>\n",
       "      <td>2.0</td>\n",
       "      <td>2424.0</td>\n",
       "      <td>9030.0</td>\n",
       "      <td>0</td>\n",
       "      <td>0</td>\n",
       "      <td>0</td>\n",
       "      <td>0</td>\n",
       "      <td>0</td>\n",
       "    </tr>\n",
       "    <tr>\n",
       "      <th>2</th>\n",
       "      <td>13.00</td>\n",
       "      <td>1</td>\n",
       "      <td>0</td>\n",
       "      <td>43.0</td>\n",
       "      <td>878.0</td>\n",
       "      <td>2.0</td>\n",
       "      <td>3868.0</td>\n",
       "      <td>9030.0</td>\n",
       "      <td>1</td>\n",
       "      <td>0</td>\n",
       "      <td>0</td>\n",
       "      <td>0</td>\n",
       "      <td>0</td>\n",
       "    </tr>\n",
       "    <tr>\n",
       "      <th>3</th>\n",
       "      <td>18.00</td>\n",
       "      <td>1</td>\n",
       "      <td>0</td>\n",
       "      <td>43.0</td>\n",
       "      <td>2346.0</td>\n",
       "      <td>2.0</td>\n",
       "      <td>4546.0</td>\n",
       "      <td>13930.0</td>\n",
       "      <td>0</td>\n",
       "      <td>0</td>\n",
       "      <td>1</td>\n",
       "      <td>0</td>\n",
       "      <td>0</td>\n",
       "    </tr>\n",
       "    <tr>\n",
       "      <th>4</th>\n",
       "      <td>25.00</td>\n",
       "      <td>1</td>\n",
       "      <td>0</td>\n",
       "      <td>43.0</td>\n",
       "      <td>2542.0</td>\n",
       "      <td>2.0</td>\n",
       "      <td>3244.0</td>\n",
       "      <td>14560.0</td>\n",
       "      <td>0</td>\n",
       "      <td>0</td>\n",
       "      <td>0</td>\n",
       "      <td>0</td>\n",
       "      <td>0</td>\n",
       "    </tr>\n",
       "    <tr>\n",
       "      <th>...</th>\n",
       "      <td>...</td>\n",
       "      <td>...</td>\n",
       "      <td>...</td>\n",
       "      <td>...</td>\n",
       "      <td>...</td>\n",
       "      <td>...</td>\n",
       "      <td>...</td>\n",
       "      <td>...</td>\n",
       "      <td>...</td>\n",
       "      <td>...</td>\n",
       "      <td>...</td>\n",
       "      <td>...</td>\n",
       "      <td>...</td>\n",
       "    </tr>\n",
       "    <tr>\n",
       "      <th>64</th>\n",
       "      <td>40.78</td>\n",
       "      <td>2</td>\n",
       "      <td>1</td>\n",
       "      <td>4.0</td>\n",
       "      <td>13552.0</td>\n",
       "      <td>2.0</td>\n",
       "      <td>2306.0</td>\n",
       "      <td>9800.0</td>\n",
       "      <td>0</td>\n",
       "      <td>0</td>\n",
       "      <td>0</td>\n",
       "      <td>0</td>\n",
       "      <td>0</td>\n",
       "    </tr>\n",
       "    <tr>\n",
       "      <th>65</th>\n",
       "      <td>21.50</td>\n",
       "      <td>1</td>\n",
       "      <td>0</td>\n",
       "      <td>3.0</td>\n",
       "      <td>7598.0</td>\n",
       "      <td>2.0</td>\n",
       "      <td>4065.0</td>\n",
       "      <td>12600.0</td>\n",
       "      <td>0</td>\n",
       "      <td>0</td>\n",
       "      <td>0</td>\n",
       "      <td>0</td>\n",
       "      <td>0</td>\n",
       "    </tr>\n",
       "    <tr>\n",
       "      <th>66</th>\n",
       "      <td>115.23</td>\n",
       "      <td>1</td>\n",
       "      <td>0</td>\n",
       "      <td>12.0</td>\n",
       "      <td>5431.0</td>\n",
       "      <td>2.0</td>\n",
       "      <td>906.0</td>\n",
       "      <td>10570.0</td>\n",
       "      <td>0</td>\n",
       "      <td>0</td>\n",
       "      <td>0</td>\n",
       "      <td>0</td>\n",
       "      <td>0</td>\n",
       "    </tr>\n",
       "    <tr>\n",
       "      <th>67</th>\n",
       "      <td>34.80</td>\n",
       "      <td>2</td>\n",
       "      <td>1</td>\n",
       "      <td>17.0</td>\n",
       "      <td>4375.0</td>\n",
       "      <td>2.0</td>\n",
       "      <td>1742.0</td>\n",
       "      <td>12460.0</td>\n",
       "      <td>0</td>\n",
       "      <td>0</td>\n",
       "      <td>0</td>\n",
       "      <td>0</td>\n",
       "      <td>0</td>\n",
       "    </tr>\n",
       "    <tr>\n",
       "      <th>68</th>\n",
       "      <td>22.00</td>\n",
       "      <td>1</td>\n",
       "      <td>0</td>\n",
       "      <td>12.0</td>\n",
       "      <td>7355.0</td>\n",
       "      <td>2.0</td>\n",
       "      <td>1132.0</td>\n",
       "      <td>10430.0</td>\n",
       "      <td>0</td>\n",
       "      <td>0</td>\n",
       "      <td>0</td>\n",
       "      <td>1</td>\n",
       "      <td>0</td>\n",
       "    </tr>\n",
       "  </tbody>\n",
       "</table>\n",
       "<p>69 rows × 13 columns</p>\n",
       "</div>"
      ],
      "text/plain": [
       "    торговельна_площа  количество_касс  тип  кіл_сть_відгуків  \\\n",
       "0                9.00                1    0              43.0   \n",
       "1               22.00                1    0               8.0   \n",
       "2               13.00                1    0              43.0   \n",
       "3               18.00                1    0              43.0   \n",
       "4               25.00                1    0              43.0   \n",
       "..                ...              ...  ...               ...   \n",
       "64              40.78                2    1               4.0   \n",
       "65              21.50                1    0               3.0   \n",
       "66             115.23                1    0              12.0   \n",
       "67              34.80                2    1              17.0   \n",
       "68              22.00                1    0              12.0   \n",
       "\n",
       "    количество_чеков  средний_кол_во  людинопотік  середній_дохід  піцерія  \\\n",
       "0             1230.0             2.0       5211.0         14910.0        0   \n",
       "1             2715.0             2.0       2424.0          9030.0        0   \n",
       "2              878.0             2.0       3868.0          9030.0        1   \n",
       "3             2346.0             2.0       4546.0         13930.0        0   \n",
       "4             2542.0             2.0       3244.0         14560.0        0   \n",
       "..               ...             ...          ...             ...      ...   \n",
       "64           13552.0             2.0       2306.0          9800.0        0   \n",
       "65            7598.0             2.0       4065.0         12600.0        0   \n",
       "66            5431.0             2.0        906.0         10570.0        0   \n",
       "67            4375.0             2.0       1742.0         12460.0        0   \n",
       "68            7355.0             2.0       1132.0         10430.0        0   \n",
       "\n",
       "    магістральна_вулиця  стихійна_торгівля  церква  новозбудований_ЖК  \n",
       "0                     0                  0       0                  0  \n",
       "1                     0                  0       0                  0  \n",
       "2                     0                  0       0                  0  \n",
       "3                     0                  1       0                  0  \n",
       "4                     0                  0       0                  0  \n",
       "..                  ...                ...     ...                ...  \n",
       "64                    0                  0       0                  0  \n",
       "65                    0                  0       0                  0  \n",
       "66                    0                  0       0                  0  \n",
       "67                    0                  0       0                  0  \n",
       "68                    0                  0       1                  0  \n",
       "\n",
       "[69 rows x 13 columns]"
      ]
     },
     "execution_count": 186,
     "metadata": {},
     "output_type": "execute_result"
    }
   ],
   "source": [
    "df"
   ]
  },
  {
   "cell_type": "code",
   "execution_count": 187,
   "id": "785133d5",
   "metadata": {},
   "outputs": [],
   "source": [
    "# Function Outliers\n",
    "def outliers(df):\n",
    "    num_var = list(df._get_numeric_data().columns)\n",
    "    for col_names in num_var:\n",
    "        df[col_names] = df[col_names].apply(lambda y: df[col_names].mean()-3*df[col_names].std() \n",
    "                            if y < df[col_names].mean()-3*df[col_names].std() else y)\n",
    "        df[col_names] = df[col_names].apply(lambda y: df[col_names].mean()+3*df[col_names].std() \n",
    "                            if y > df[col_names].mean()+3*df[col_names].std() else y)\n",
    "    return(df)"
   ]
  },
  {
   "cell_type": "code",
   "execution_count": 188,
   "id": "2a98beb4",
   "metadata": {},
   "outputs": [
    {
     "data": {
      "text/html": [
       "<div>\n",
       "<style scoped>\n",
       "    .dataframe tbody tr th:only-of-type {\n",
       "        vertical-align: middle;\n",
       "    }\n",
       "\n",
       "    .dataframe tbody tr th {\n",
       "        vertical-align: top;\n",
       "    }\n",
       "\n",
       "    .dataframe thead th {\n",
       "        text-align: right;\n",
       "    }\n",
       "</style>\n",
       "<table border=\"1\" class=\"dataframe\">\n",
       "  <thead>\n",
       "    <tr style=\"text-align: right;\">\n",
       "      <th></th>\n",
       "      <th>торговельна_площа</th>\n",
       "      <th>количество_касс</th>\n",
       "      <th>тип</th>\n",
       "      <th>кіл_сть_відгуків</th>\n",
       "      <th>количество_чеков</th>\n",
       "      <th>средний_кол_во</th>\n",
       "      <th>людинопотік</th>\n",
       "      <th>середній_дохід</th>\n",
       "      <th>піцерія</th>\n",
       "      <th>магістральна_вулиця</th>\n",
       "      <th>стихійна_торгівля</th>\n",
       "      <th>церква</th>\n",
       "      <th>новозбудований_ЖК</th>\n",
       "    </tr>\n",
       "  </thead>\n",
       "  <tbody>\n",
       "    <tr>\n",
       "      <th>count</th>\n",
       "      <td>69.000000</td>\n",
       "      <td>69.000000</td>\n",
       "      <td>69.000000</td>\n",
       "      <td>69.000000</td>\n",
       "      <td>69.000000</td>\n",
       "      <td>69.000000</td>\n",
       "      <td>69.000000</td>\n",
       "      <td>69.000000</td>\n",
       "      <td>69.000000</td>\n",
       "      <td>69.000000</td>\n",
       "      <td>69.000000</td>\n",
       "      <td>69.000000</td>\n",
       "      <td>69.000000</td>\n",
       "    </tr>\n",
       "    <tr>\n",
       "      <th>mean</th>\n",
       "      <td>34.371276</td>\n",
       "      <td>1.226190</td>\n",
       "      <td>0.335031</td>\n",
       "      <td>39.441740</td>\n",
       "      <td>7105.030583</td>\n",
       "      <td>1.975688</td>\n",
       "      <td>2736.729471</td>\n",
       "      <td>11518.876126</td>\n",
       "      <td>0.028685</td>\n",
       "      <td>0.144928</td>\n",
       "      <td>0.081606</td>\n",
       "      <td>0.044300</td>\n",
       "      <td>0.028685</td>\n",
       "    </tr>\n",
       "    <tr>\n",
       "      <th>std</th>\n",
       "      <td>19.893026</td>\n",
       "      <td>0.438122</td>\n",
       "      <td>0.538752</td>\n",
       "      <td>44.968644</td>\n",
       "      <td>4052.584218</td>\n",
       "      <td>0.170844</td>\n",
       "      <td>1916.259577</td>\n",
       "      <td>2015.165008</td>\n",
       "      <td>0.135530</td>\n",
       "      <td>0.354607</td>\n",
       "      <td>0.266369</td>\n",
       "      <td>0.179887</td>\n",
       "      <td>0.135530</td>\n",
       "    </tr>\n",
       "    <tr>\n",
       "      <th>min</th>\n",
       "      <td>4.000000</td>\n",
       "      <td>1.000000</td>\n",
       "      <td>0.000000</td>\n",
       "      <td>1.000000</td>\n",
       "      <td>878.000000</td>\n",
       "      <td>1.248699</td>\n",
       "      <td>233.000000</td>\n",
       "      <td>4118.726364</td>\n",
       "      <td>0.000000</td>\n",
       "      <td>0.000000</td>\n",
       "      <td>0.000000</td>\n",
       "      <td>0.000000</td>\n",
       "      <td>0.000000</td>\n",
       "    </tr>\n",
       "    <tr>\n",
       "      <th>25%</th>\n",
       "      <td>22.000000</td>\n",
       "      <td>1.000000</td>\n",
       "      <td>0.000000</td>\n",
       "      <td>12.000000</td>\n",
       "      <td>3734.000000</td>\n",
       "      <td>2.000000</td>\n",
       "      <td>1296.000000</td>\n",
       "      <td>10570.000000</td>\n",
       "      <td>0.000000</td>\n",
       "      <td>0.000000</td>\n",
       "      <td>0.000000</td>\n",
       "      <td>0.000000</td>\n",
       "      <td>0.000000</td>\n",
       "    </tr>\n",
       "    <tr>\n",
       "      <th>50%</th>\n",
       "      <td>27.500000</td>\n",
       "      <td>1.000000</td>\n",
       "      <td>0.000000</td>\n",
       "      <td>43.000000</td>\n",
       "      <td>6694.000000</td>\n",
       "      <td>2.000000</td>\n",
       "      <td>2269.000000</td>\n",
       "      <td>11419.000000</td>\n",
       "      <td>0.000000</td>\n",
       "      <td>0.000000</td>\n",
       "      <td>0.000000</td>\n",
       "      <td>0.000000</td>\n",
       "      <td>0.000000</td>\n",
       "    </tr>\n",
       "    <tr>\n",
       "      <th>75%</th>\n",
       "      <td>41.000000</td>\n",
       "      <td>1.000000</td>\n",
       "      <td>1.000000</td>\n",
       "      <td>43.000000</td>\n",
       "      <td>8548.000000</td>\n",
       "      <td>2.000000</td>\n",
       "      <td>3880.000000</td>\n",
       "      <td>12880.000000</td>\n",
       "      <td>0.000000</td>\n",
       "      <td>0.000000</td>\n",
       "      <td>0.000000</td>\n",
       "      <td>0.000000</td>\n",
       "      <td>0.000000</td>\n",
       "    </tr>\n",
       "    <tr>\n",
       "      <th>max</th>\n",
       "      <td>99.985025</td>\n",
       "      <td>2.607131</td>\n",
       "      <td>2.117130</td>\n",
       "      <td>226.740019</td>\n",
       "      <td>17537.000000</td>\n",
       "      <td>2.576351</td>\n",
       "      <td>8701.333510</td>\n",
       "      <td>15470.000000</td>\n",
       "      <td>0.659754</td>\n",
       "      <td>1.000000</td>\n",
       "      <td>0.938463</td>\n",
       "      <td>0.764173</td>\n",
       "      <td>0.659754</td>\n",
       "    </tr>\n",
       "  </tbody>\n",
       "</table>\n",
       "</div>"
      ],
      "text/plain": [
       "       торговельна_площа  количество_касс        тип  кіл_сть_відгуків  \\\n",
       "count          69.000000        69.000000  69.000000         69.000000   \n",
       "mean           34.371276         1.226190   0.335031         39.441740   \n",
       "std            19.893026         0.438122   0.538752         44.968644   \n",
       "min             4.000000         1.000000   0.000000          1.000000   \n",
       "25%            22.000000         1.000000   0.000000         12.000000   \n",
       "50%            27.500000         1.000000   0.000000         43.000000   \n",
       "75%            41.000000         1.000000   1.000000         43.000000   \n",
       "max            99.985025         2.607131   2.117130        226.740019   \n",
       "\n",
       "       количество_чеков  средний_кол_во  людинопотік  середній_дохід  \\\n",
       "count         69.000000       69.000000    69.000000       69.000000   \n",
       "mean        7105.030583        1.975688  2736.729471    11518.876126   \n",
       "std         4052.584218        0.170844  1916.259577     2015.165008   \n",
       "min          878.000000        1.248699   233.000000     4118.726364   \n",
       "25%         3734.000000        2.000000  1296.000000    10570.000000   \n",
       "50%         6694.000000        2.000000  2269.000000    11419.000000   \n",
       "75%         8548.000000        2.000000  3880.000000    12880.000000   \n",
       "max        17537.000000        2.576351  8701.333510    15470.000000   \n",
       "\n",
       "         піцерія  магістральна_вулиця  стихійна_торгівля     церква  \\\n",
       "count  69.000000            69.000000          69.000000  69.000000   \n",
       "mean    0.028685             0.144928           0.081606   0.044300   \n",
       "std     0.135530             0.354607           0.266369   0.179887   \n",
       "min     0.000000             0.000000           0.000000   0.000000   \n",
       "25%     0.000000             0.000000           0.000000   0.000000   \n",
       "50%     0.000000             0.000000           0.000000   0.000000   \n",
       "75%     0.000000             0.000000           0.000000   0.000000   \n",
       "max     0.659754             1.000000           0.938463   0.764173   \n",
       "\n",
       "       новозбудований_ЖК  \n",
       "count          69.000000  \n",
       "mean            0.028685  \n",
       "std             0.135530  \n",
       "min             0.000000  \n",
       "25%             0.000000  \n",
       "50%             0.000000  \n",
       "75%             0.000000  \n",
       "max             0.659754  "
      ]
     },
     "execution_count": 188,
     "metadata": {},
     "output_type": "execute_result"
    }
   ],
   "source": [
    "# Outliers\n",
    "df = outliers(df)\n",
    "df.describe()"
   ]
  },
  {
   "cell_type": "code",
   "execution_count": 189,
   "id": "643a60e7",
   "metadata": {},
   "outputs": [
    {
     "data": {
      "image/png": "[encoded data removed]",
      "text/plain": [
       "<Figure size 864x648 with 2 Axes>"
      ]
     },
     "metadata": {
      "needs_background": "light"
     },
     "output_type": "display_data"
    }
   ],
   "source": [
    "# Cheking correlations\n",
    "import seaborn as sns\n",
    "corrmat = df.corr()\n",
    "f, ax = plt.subplots(figsize=(12, 9))\n",
    "sns.heatmap(corrmat, annot=True)\n",
    "plt.show()"
   ]
  },
  {
   "cell_type": "code",
   "execution_count": 190,
   "id": "b70906e5",
   "metadata": {},
   "outputs": [],
   "source": [
    "#Наибольшую корреляцию с количеством чеков чеков даёт количество касс."
   ]
  },
  {
   "cell_type": "code",
   "execution_count": 191,
   "id": "bc6da01c",
   "metadata": {},
   "outputs": [],
   "source": [
    "a = ['тип', 'кіл_сть_відгуків', 'количество_касс', 'средний_кол_во','людинопотік','середній_дохід']"
   ]
  },
  {
   "cell_type": "code",
   "execution_count": 192,
   "id": "884c5d3b",
   "metadata": {},
   "outputs": [],
   "source": [
    "#linear regression\n",
    "#Splitting the dataset into the Training set and Test set\n",
    "X =df[a]\n",
    "y = df['количество_чеков']\n",
    "from sklearn.model_selection import train_test_split\n",
    "X_train, X_test, y_train, y_test = train_test_split(X, y, test_size=0.2, random_state=10)"
   ]
  },
  {
   "cell_type": "code",
   "execution_count": 193,
   "id": "dac2954a",
   "metadata": {},
   "outputs": [
    {
     "data": {
      "text/plain": [
       "(array([6018.09941955]), -103.23728125476737)"
      ]
     },
     "execution_count": 193,
     "metadata": {},
     "output_type": "execute_result"
    }
   ],
   "source": [
    "# Fitting Simple Linear Regression to the Training set\n",
    "f1 = ['количество_касс']\n",
    "\n",
    "from sklearn.linear_model import LinearRegression\n",
    "sr = LinearRegression().fit(X_train[f1], y_train)\n",
    "\n",
    "# Getting parameters\n",
    "sr.coef_, sr.intercept_"
   ]
  },
  {
   "cell_type": "code",
   "execution_count": 194,
   "id": "1ed417d2",
   "metadata": {},
   "outputs": [
    {
     "data": {
      "text/plain": [
       "(0.436, 0.264)"
      ]
     },
     "execution_count": 194,
     "metadata": {},
     "output_type": "execute_result"
    }
   ],
   "source": [
    "# Predicting the Test set results\n",
    "y_pred = sr.predict(X_test[f1])\n",
    "\n",
    "# Coefficient of determination R^2\n",
    "sr.score(X_train[f1], y_train).round(3), sr.score(X_test[f1], y_test).round(3)"
   ]
  },
  {
   "cell_type": "code",
   "execution_count": 195,
   "id": "bc1f868d",
   "metadata": {},
   "outputs": [],
   "source": [
    "#43,6% и 26,4% (для обучаемой и тестовой выборки) изменения показателя в ('количество_чеков') можно обьяснить с помощью изменения Х."
   ]
  },
  {
   "cell_type": "code",
   "execution_count": 196,
   "id": "3280557a",
   "metadata": {},
   "outputs": [
    {
     "data": {
      "text/plain": [
       "(3092.31, 2904.44)"
      ]
     },
     "execution_count": 196,
     "metadata": {},
     "output_type": "execute_result"
    }
   ],
   "source": [
    "# Mean squared error\n",
    "from sklearn.metrics import mean_squared_error\n",
    "mean_squared_error(y_train, sr.predict(X_train[f1]), squared=False).round(2), mean_squared_error(y_test, y_pred, squared=False).round(2)"
   ]
  },
  {
   "cell_type": "code",
   "execution_count": 197,
   "id": "dc7c6fd2",
   "metadata": {},
   "outputs": [
    {
     "data": {
      "image/png": "[encoded data removed]",
      "text/plain": [
       "<Figure size 432x288 with 1 Axes>"
      ]
     },
     "metadata": {
      "needs_background": "light"
     },
     "output_type": "display_data"
    }
   ],
   "source": [
    "# Visualising the Test set results\n",
    "plt.scatter(X_test['количество_касс'], y_test, color = 'red')\n",
    "plt.plot(X_test['количество_касс'], sr.predict(X_test[f1]), 'bo')\n",
    "plt.title('количество_чеков vs количество_касс (Test set)')\n",
    "plt.xlabel('количество_касс')\n",
    "plt.ylabel('количество_чеков')\n",
    "plt.show()"
   ]
  },
  {
   "cell_type": "code",
   "execution_count": 198,
   "id": "9c48a28a",
   "metadata": {},
   "outputs": [],
   "source": [
    "#Multiple Linear Regression\n",
    "#!pip install statsmodels"
   ]
  },
  {
   "cell_type": "code",
   "execution_count": 199,
   "id": "5e84a7d1",
   "metadata": {},
   "outputs": [
    {
     "data": {
      "text/plain": [
       "(0.512, -0.01)"
      ]
     },
     "execution_count": 199,
     "metadata": {},
     "output_type": "execute_result"
    }
   ],
   "source": [
    "# Fitting Multiple Regression\n",
    "mr = LinearRegression().fit(X_train, y_train)\n",
    "\n",
    "# Coefficient of determination R^2\n",
    "mr.score(X_train, y_train).round(3), mr.score(X_test, y_test).round(3)"
   ]
  },
  {
   "cell_type": "code",
   "execution_count": 200,
   "id": "8dd2f4d7",
   "metadata": {},
   "outputs": [
    {
     "data": {
      "text/plain": [
       "const               0.543475\n",
       "тип                 0.066119\n",
       "кіл_сть_відгуків    0.288682\n",
       "количество_касс     0.000055\n",
       "средний_кол_во      0.858855\n",
       "людинопотік         0.233154\n",
       "середній_дохід      0.146163\n",
       "dtype: float64"
      ]
     },
     "execution_count": 200,
     "metadata": {},
     "output_type": "execute_result"
    }
   ],
   "source": [
    "# Checking p-values\n",
    "import statsmodels.api as sm\n",
    "X1 = sm.add_constant(X_train)\n",
    "mr1 = sm.OLS(y_train, X1).fit()\n",
    "mr1.pvalues"
   ]
  },
  {
   "cell_type": "code",
   "execution_count": 201,
   "id": "f2439555",
   "metadata": {},
   "outputs": [
    {
     "data": {
      "text/html": [
       "<table class=\"simpletable\">\n",
       "<caption>OLS Regression Results</caption>\n",
       "<tr>\n",
       "  <th>Dep. Variable:</th>    <td>количество_чеков</td> <th>  R-squared:         </th> <td>   0.512</td>\n",
       "</tr>\n",
       "<tr>\n",
       "  <th>Model:</th>                   <td>OLS</td>       <th>  Adj. R-squared:    </th> <td>   0.451</td>\n",
       "</tr>\n",
       "<tr>\n",
       "  <th>Method:</th>             <td>Least Squares</td>  <th>  F-statistic:       </th> <td>   8.393</td>\n",
       "</tr>\n",
       "<tr>\n",
       "  <th>Date:</th>             <td>Wed, 12 Jan 2022</td> <th>  Prob (F-statistic):</th> <td>3.06e-06</td>\n",
       "</tr>\n",
       "<tr>\n",
       "  <th>Time:</th>                 <td>17:28:26</td>     <th>  Log-Likelihood:    </th> <td> -516.07</td>\n",
       "</tr>\n",
       "<tr>\n",
       "  <th>No. Observations:</th>      <td>    55</td>      <th>  AIC:               </th> <td>   1046.</td>\n",
       "</tr>\n",
       "<tr>\n",
       "  <th>Df Residuals:</th>          <td>    48</td>      <th>  BIC:               </th> <td>   1060.</td>\n",
       "</tr>\n",
       "<tr>\n",
       "  <th>Df Model:</th>              <td>     6</td>      <th>                     </th>     <td> </td>   \n",
       "</tr>\n",
       "<tr>\n",
       "  <th>Covariance Type:</th>      <td>nonrobust</td>    <th>                     </th>     <td> </td>   \n",
       "</tr>\n",
       "</table>\n",
       "<table class=\"simpletable\">\n",
       "<tr>\n",
       "          <td></td>            <th>coef</th>     <th>std err</th>      <th>t</th>      <th>P>|t|</th>  <th>[0.025</th>    <th>0.975]</th>  \n",
       "</tr>\n",
       "<tr>\n",
       "  <th>const</th>            <td> 4652.4100</td> <td> 7602.896</td> <td>    0.612</td> <td> 0.543</td> <td>-1.06e+04</td> <td> 1.99e+04</td>\n",
       "</tr>\n",
       "<tr>\n",
       "  <th>тип</th>              <td> 1608.6109</td> <td>  855.430</td> <td>    1.880</td> <td> 0.066</td> <td> -111.347</td> <td> 3328.568</td>\n",
       "</tr>\n",
       "<tr>\n",
       "  <th>кіл_сть_відгуків</th> <td>   10.7201</td> <td>    9.992</td> <td>    1.073</td> <td> 0.289</td> <td>   -9.370</td> <td>   30.810</td>\n",
       "</tr>\n",
       "<tr>\n",
       "  <th>количество_касс</th>  <td> 4708.4332</td> <td> 1063.276</td> <td>    4.428</td> <td> 0.000</td> <td> 2570.574</td> <td> 6846.292</td>\n",
       "</tr>\n",
       "<tr>\n",
       "  <th>средний_кол_во</th>   <td> -635.2870</td> <td> 3553.265</td> <td>   -0.179</td> <td> 0.859</td> <td>-7779.605</td> <td> 6509.031</td>\n",
       "</tr>\n",
       "<tr>\n",
       "  <th>людинопотік</th>      <td>    0.2664</td> <td>    0.221</td> <td>    1.208</td> <td> 0.233</td> <td>   -0.177</td> <td>    0.710</td>\n",
       "</tr>\n",
       "<tr>\n",
       "  <th>середній_дохід</th>   <td>   -0.3140</td> <td>    0.213</td> <td>   -1.477</td> <td> 0.146</td> <td>   -0.741</td> <td>    0.113</td>\n",
       "</tr>\n",
       "</table>\n",
       "<table class=\"simpletable\">\n",
       "<tr>\n",
       "  <th>Omnibus:</th>       <td> 0.111</td> <th>  Durbin-Watson:     </th> <td>   1.957</td>\n",
       "</tr>\n",
       "<tr>\n",
       "  <th>Prob(Omnibus):</th> <td> 0.946</td> <th>  Jarque-Bera (JB):  </th> <td>   0.004</td>\n",
       "</tr>\n",
       "<tr>\n",
       "  <th>Skew:</th>          <td>-0.006</td> <th>  Prob(JB):          </th> <td>   0.998</td>\n",
       "</tr>\n",
       "<tr>\n",
       "  <th>Kurtosis:</th>      <td> 2.958</td> <th>  Cond. No.          </th> <td>2.40e+05</td>\n",
       "</tr>\n",
       "</table><br/><br/>Notes:<br/>[1] Standard Errors assume that the covariance matrix of the errors is correctly specified.<br/>[2] The condition number is large, 2.4e+05. This might indicate that there are<br/>strong multicollinearity or other numerical problems."
      ],
      "text/plain": [
       "<class 'statsmodels.iolib.summary.Summary'>\n",
       "\"\"\"\n",
       "                            OLS Regression Results                            \n",
       "==============================================================================\n",
       "Dep. Variable:       количество_чеков   R-squared:                       0.512\n",
       "Model:                            OLS   Adj. R-squared:                  0.451\n",
       "Method:                 Least Squares   F-statistic:                     8.393\n",
       "Date:                Wed, 12 Jan 2022   Prob (F-statistic):           3.06e-06\n",
       "Time:                        17:28:26   Log-Likelihood:                -516.07\n",
       "No. Observations:                  55   AIC:                             1046.\n",
       "Df Residuals:                      48   BIC:                             1060.\n",
       "Df Model:                           6                                         \n",
       "Covariance Type:            nonrobust                                         \n",
       "====================================================================================\n",
       "                       coef    std err          t      P>|t|      [0.025      0.975]\n",
       "------------------------------------------------------------------------------------\n",
       "const             4652.4100   7602.896      0.612      0.543   -1.06e+04    1.99e+04\n",
       "тип               1608.6109    855.430      1.880      0.066    -111.347    3328.568\n",
       "кіл_сть_відгуків    10.7201      9.992      1.073      0.289      -9.370      30.810\n",
       "количество_касс   4708.4332   1063.276      4.428      0.000    2570.574    6846.292\n",
       "средний_кол_во    -635.2870   3553.265     -0.179      0.859   -7779.605    6509.031\n",
       "людинопотік          0.2664      0.221      1.208      0.233      -0.177       0.710\n",
       "середній_дохід      -0.3140      0.213     -1.477      0.146      -0.741       0.113\n",
       "==============================================================================\n",
       "Omnibus:                        0.111   Durbin-Watson:                   1.957\n",
       "Prob(Omnibus):                  0.946   Jarque-Bera (JB):                0.004\n",
       "Skew:                          -0.006   Prob(JB):                        0.998\n",
       "Kurtosis:                       2.958   Cond. No.                     2.40e+05\n",
       "==============================================================================\n",
       "\n",
       "Notes:\n",
       "[1] Standard Errors assume that the covariance matrix of the errors is correctly specified.\n",
       "[2] The condition number is large, 2.4e+05. This might indicate that there are\n",
       "strong multicollinearity or other numerical problems.\n",
       "\"\"\""
      ]
     },
     "execution_count": 201,
     "metadata": {},
     "output_type": "execute_result"
    }
   ],
   "source": [
    "mr1.summary()"
   ]
  },
  {
   "cell_type": "code",
   "execution_count": 202,
   "id": "83514f82",
   "metadata": {},
   "outputs": [
    {
     "data": {
      "text/plain": [
       "(array([ 1.60861091e+03,  1.07200937e+01,  4.70843316e+03, -6.35287027e+02,\n",
       "         2.66393261e-01, -3.13966192e-01]),\n",
       " 4652.410017780567)"
      ]
     },
     "execution_count": 202,
     "metadata": {},
     "output_type": "execute_result"
    }
   ],
   "source": [
    "# Fitting Polynomial Regression to the dataset\n",
    "from sklearn.preprocessing import PolynomialFeatures\n",
    "X_train_p = PolynomialFeatures().fit_transform(X_train)\n",
    "X_test_p = PolynomialFeatures().fit_transform(X_test)\n",
    "\n",
    "pr = LinearRegression().fit(X_train, y_train)\n",
    "\n",
    "# Getting parameters\n",
    "pr.coef_, pr.intercept_"
   ]
  },
  {
   "cell_type": "code",
   "execution_count": 203,
   "id": "3a1c7d5e",
   "metadata": {},
   "outputs": [
    {
     "data": {
      "text/plain": [
       "(0.512, -0.01)"
      ]
     },
     "execution_count": 203,
     "metadata": {},
     "output_type": "execute_result"
    }
   ],
   "source": [
    "pr = LinearRegression().fit(X_train, y_train)\n",
    "# Predicting the Test set results\n",
    "y_pred = pr.predict(X_test)\n",
    "\n",
    "# Coefficient of determination R^2\n",
    "pr.score(X_train, y_train).round(3), pr.score(X_test, y_test).round(3)"
   ]
  },
  {
   "cell_type": "code",
   "execution_count": 204,
   "id": "2e4531f5",
   "metadata": {},
   "outputs": [
    {
     "data": {
      "text/plain": [
       "(2875.93, 3401.33)"
      ]
     },
     "execution_count": 204,
     "metadata": {},
     "output_type": "execute_result"
    }
   ],
   "source": [
    "pr = LinearRegression().fit(X_train, y_train)\n",
    "# Mean squared error\n",
    "mean_squared_error(y_train, pr.predict(X_train), squared=False).round(2), mean_squared_error(y_test, y_pred, squared=False).round(2)"
   ]
  },
  {
   "cell_type": "code",
   "execution_count": 205,
   "id": "0b44b603",
   "metadata": {},
   "outputs": [],
   "source": [
    "# Metrics\n",
    "def metrics(X_train, X_test, y_train, y_test, y_pred, model):\n",
    "    RMSE = [mean_squared_error(y_train, model.predict(X_train),squared=False), mean_squared_error(y_test, y_pred, squared=False)]\n",
    "    R2 = [model.score(X_train, y_train), model.score(X_test, y_test)]\n",
    "    results = {'RMSE': RMSE, 'R2':R2}\n",
    "    return pd.DataFrame(results, index=['Train', 'Test'])"
   ]
  },
  {
   "cell_type": "code",
   "execution_count": 206,
   "id": "db7b9291",
   "metadata": {},
   "outputs": [],
   "source": [
    "#regression tree\n",
    "def max_leaf_nodes(X_train, X_test, y_train, y_test, n):\n",
    "    mse_train = []\n",
    "    mse_test = []\n",
    "    for i in n:\n",
    "        dt = DecisionTreeRegressor(max_leaf_nodes = i, random_state=10).fit(X_train, y_train)\n",
    "        mse_train.append(mean_squared_error(y_train, dt.predict(X_train)))\n",
    "        mse_test.append(mean_squared_error(y_test, dt.predict(X_test)))\n",
    "    fig, ax = plt.subplots(figsize=(10, 6))\n",
    "    ax.plot(n, mse_train, alpha=0.5, color='blue', label='train')\n",
    "    ax.plot(n, mse_test, alpha=0.5, color='red', label='test')\n",
    "    ax.set_ylabel(\"MSE\")\n",
    "    ax.set_xlabel(\"max_leaf_nodes\")"
   ]
  },
  {
   "cell_type": "code",
   "execution_count": 207,
   "id": "39eec8d8",
   "metadata": {},
   "outputs": [
    {
     "data": {
      "image/png": "[encoded data removed]",
      "text/plain": [
       "<Figure size 720x432 with 1 Axes>"
      ]
     },
     "metadata": {
      "needs_background": "light"
     },
     "output_type": "display_data"
    }
   ],
   "source": [
    "# The optimal number of max_leaf_nodes\n",
    "from sklearn.tree import DecisionTreeRegressor\n",
    "from sklearn.metrics import mean_squared_error\n",
    "max_leaf_nodes(X_train, X_test, y_train, y_test, [2, 3, 4])"
   ]
  },
  {
   "cell_type": "code",
   "execution_count": 208,
   "id": "6fddafff",
   "metadata": {},
   "outputs": [
    {
     "data": {
      "text/html": [
       "<div>\n",
       "<style scoped>\n",
       "    .dataframe tbody tr th:only-of-type {\n",
       "        vertical-align: middle;\n",
       "    }\n",
       "\n",
       "    .dataframe tbody tr th {\n",
       "        vertical-align: top;\n",
       "    }\n",
       "\n",
       "    .dataframe thead th {\n",
       "        text-align: right;\n",
       "    }\n",
       "</style>\n",
       "<table border=\"1\" class=\"dataframe\">\n",
       "  <thead>\n",
       "    <tr style=\"text-align: right;\">\n",
       "      <th></th>\n",
       "      <th>RMSE</th>\n",
       "      <th>R2</th>\n",
       "    </tr>\n",
       "  </thead>\n",
       "  <tbody>\n",
       "    <tr>\n",
       "      <th>Train</th>\n",
       "      <td>2787.66</td>\n",
       "      <td>0.54</td>\n",
       "    </tr>\n",
       "    <tr>\n",
       "      <th>Test</th>\n",
       "      <td>3082.84</td>\n",
       "      <td>0.17</td>\n",
       "    </tr>\n",
       "  </tbody>\n",
       "</table>\n",
       "</div>"
      ],
      "text/plain": [
       "          RMSE    R2\n",
       "Train  2787.66  0.54\n",
       "Test   3082.84  0.17"
      ]
     },
     "execution_count": 208,
     "metadata": {},
     "output_type": "execute_result"
    }
   ],
   "source": [
    "# Fitting Tree to the Training set\n",
    "dt = DecisionTreeRegressor(max_leaf_nodes = 4).fit(X_train, y_train)\n",
    "\n",
    "# Predicting the Test set results\n",
    "dt_y_pred = dt.predict(X_test)\n",
    "\n",
    "# Metrics\n",
    "metrics(X_train, X_test, y_train, y_test, dt_y_pred, dt).round(2)"
   ]
  },
  {
   "cell_type": "code",
   "execution_count": 209,
   "id": "b64acbd6",
   "metadata": {},
   "outputs": [
    {
     "data": {
      "image/png": "[encoded data removed]",
      "text/plain": [
       "<Figure size 720x432 with 1 Axes>"
      ]
     },
     "metadata": {
      "needs_background": "light"
     },
     "output_type": "display_data"
    }
   ],
   "source": [
    "#random forest\n",
    "def rf_best_n_estimator(X_train, X_test, y_train, y_test, n):\n",
    "    mse_train = []\n",
    "    mse_test = []\n",
    "    for i in n:\n",
    "        rf = RandomForestRegressor(n_estimators=i, random_state=10).fit(X_train, y_train)\n",
    "        mse_train.append(mean_squared_error(y_train, rf.predict(X_train)))\n",
    "        mse_test.append(mean_squared_error(y_test, rf.predict(X_test)))\n",
    "    fig, ax = plt.subplots(figsize=(10, 6))\n",
    "    ax.plot(n, mse_train, alpha=0.5, color='blue', label='train')\n",
    "    ax.plot(n, mse_test, alpha=0.5, color='red', label='test')\n",
    "    ax.set_ylabel(\"MSE\")\n",
    "    ax.set_xlabel(\"N_estimators\")\n",
    "    \n",
    "# The optimal number of trees \n",
    "from sklearn.ensemble import RandomForestRegressor    \n",
    "rf_best_n_estimator(X_train, X_test, y_train, y_test, [2, 5, 10, 13, 17, 20, 25])"
   ]
  },
  {
   "cell_type": "code",
   "execution_count": 210,
   "id": "46401c2d",
   "metadata": {},
   "outputs": [
    {
     "data": {
      "image/png": "[encoded data removed]",
      "text/plain": [
       "<Figure size 576x288 with 1 Axes>"
      ]
     },
     "metadata": {
      "needs_background": "light"
     },
     "output_type": "display_data"
    }
   ],
   "source": [
    "def rf_max_leaf_nodes(X_train, X_test, y_train, y_test, n):\n",
    "    mse_train = []\n",
    "    mse_test = []\n",
    "    for i in n:\n",
    "        rf = RandomForestRegressor(n_estimators=5, max_leaf_nodes =i, random_state=10).fit(X_train, y_train)\n",
    "        mse_train.append(mean_squared_error(y_train, rf.predict(X_train)))\n",
    "        mse_test.append(mean_squared_error(y_test, rf.predict(X_test)))\n",
    "    fig, ax = plt.subplots(figsize=(8, 4))\n",
    "    ax.plot(n, mse_train, alpha=0.5, color='blue', label='train')\n",
    "    ax.plot(n, mse_test, alpha=0.5, color='red', label='test')\n",
    "    ax.set_ylabel(\"MSE\")\n",
    "    ax.set_xlabel(\"max_leaf_nodes\")\n",
    "    \n",
    "# The optimal number of max_leaf_nodes\n",
    "rf_max_leaf_nodes(X_train, X_test, y_train, y_test, [20, 25, 30, 35, 40])"
   ]
  },
  {
   "cell_type": "code",
   "execution_count": 211,
   "id": "1b8ded84",
   "metadata": {},
   "outputs": [
    {
     "data": {
      "text/html": [
       "<div>\n",
       "<style scoped>\n",
       "    .dataframe tbody tr th:only-of-type {\n",
       "        vertical-align: middle;\n",
       "    }\n",
       "\n",
       "    .dataframe tbody tr th {\n",
       "        vertical-align: top;\n",
       "    }\n",
       "\n",
       "    .dataframe thead th {\n",
       "        text-align: right;\n",
       "    }\n",
       "</style>\n",
       "<table border=\"1\" class=\"dataframe\">\n",
       "  <thead>\n",
       "    <tr style=\"text-align: right;\">\n",
       "      <th></th>\n",
       "      <th>RMSE</th>\n",
       "      <th>R2</th>\n",
       "    </tr>\n",
       "  </thead>\n",
       "  <tbody>\n",
       "    <tr>\n",
       "      <th>Train</th>\n",
       "      <td>1877.89</td>\n",
       "      <td>0.79</td>\n",
       "    </tr>\n",
       "    <tr>\n",
       "      <th>Test</th>\n",
       "      <td>2723.48</td>\n",
       "      <td>0.35</td>\n",
       "    </tr>\n",
       "  </tbody>\n",
       "</table>\n",
       "</div>"
      ],
      "text/plain": [
       "          RMSE    R2\n",
       "Train  1877.89  0.79\n",
       "Test   2723.48  0.35"
      ]
     },
     "execution_count": 211,
     "metadata": {},
     "output_type": "execute_result"
    }
   ],
   "source": [
    "# Fitting Random Forest to the Training set\n",
    "from sklearn.ensemble import RandomForestRegressor\n",
    "rf = RandomForestRegressor(n_estimators = 5, max_leaf_nodes = 25, random_state = 10).fit(X_train, y_train)\n",
    "\n",
    "# Predicting the Test set results\n",
    "rf_y_pred = rf.predict(X_test)\n",
    "\n",
    "# Metrics\n",
    "metrics(X_train, X_test, y_train, y_test, rf_y_pred, rf).round(2)"
   ]
  },
  {
   "cell_type": "code",
   "execution_count": 212,
   "id": "a8cf7eaf",
   "metadata": {},
   "outputs": [],
   "source": [
    "#random forest лучше всего из-за наилучшего показателя R2"
   ]
  }
 ],
 "metadata": {
  "kernelspec": {
   "display_name": "Python 3",
   "language": "python",
   "name": "python3"
  },
  "language_info": {
   "codemirror_mode": {
    "name": "ipython",
    "version": 3
   },
   "file_extension": ".py",
   "mimetype": "text/x-python",
   "name": "python",
   "nbconvert_exporter": "python",
   "pygments_lexer": "ipython3",
   "version": "3.8.8"
  }
 },
 "nbformat": 4,
 "nbformat_minor": 5
}
